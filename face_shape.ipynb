{
 "cells": [
  {
   "cell_type": "code",
   "execution_count": 7,
   "metadata": {},
   "outputs": [],
   "source": [
    "import time\n",
    "start_time = time.time()\n",
    "import os\n",
    "import numpy as np\n",
    "from keras import optimizers\n",
    "from keras.preprocessing import image\n",
    "from keras.layers import Dense, Conv2D, MaxPooling2D, BatchNormalization, GlobalAveragePooling2D\n",
    "from keras.layers import Activation, Dropout, Flatten, Dense\n",
    "from keras.models import Sequential\n",
    "from keras import backend as K\n",
    "from keras.optimizers import adam\n",
    "from keras import models\n",
    "import cv2\n",
    "#import dlib\n",
    "import pandas as pd\n",
    "import matplotlib.pyplot as plt\n",
    "import sys\n",
    "import time \n",
    "#import progressbar\n",
    "#from tqdm.notebook import tqdm_notebook\n",
    "from sklearn import svm, datasets\n",
    "from sklearn.dummy import DummyClassifier\n",
    "from sklearn.svm import SVC\n",
    "from sklearn.utils import shuffle\n",
    "from sklearn.model_selection import train_test_split, GridSearchCV, learning_curve, ShuffleSplit\n",
    "from sklearn.metrics import classification_report, accuracy_score, confusion_matrix, recall_score, precision_score, f1_score\n",
    "from tensorflow.python.keras.applications.vgg16 import preprocess_input\n",
    "from tensorflow.python.keras.preprocessing.image import ImageDataGenerator\n",
    "from tensorflow.python.keras.callbacks import EarlyStopping, ModelCheckpoint\n",
    "import keras\n",
    "from keras.utils import np_utils\n",
    "from keras.models import Sequential\n",
    "from keras.layers import Dense, AveragePooling2D, Conv2D, Flatten"
   ]
  },
  {
   "cell_type": "code",
   "execution_count": null,
   "metadata": {},
   "outputs": [],
   "source": []
  },
  {
   "cell_type": "code",
   "execution_count": 8,
   "metadata": {},
   "outputs": [
    {
     "data": {
      "text/html": [
       "<div>\n",
       "<style scoped>\n",
       "    .dataframe tbody tr th:only-of-type {\n",
       "        vertical-align: middle;\n",
       "    }\n",
       "\n",
       "    .dataframe tbody tr th {\n",
       "        vertical-align: top;\n",
       "    }\n",
       "\n",
       "    .dataframe thead th {\n",
       "        text-align: right;\n",
       "    }\n",
       "</style>\n",
       "<table border=\"1\" class=\"dataframe\">\n",
       "  <thead>\n",
       "    <tr style=\"text-align: right;\">\n",
       "      <th></th>\n",
       "      <th>face_shape</th>\n",
       "      <th>file_name</th>\n",
       "    </tr>\n",
       "  </thead>\n",
       "  <tbody>\n",
       "    <tr>\n",
       "      <th>0</th>\n",
       "      <td>4</td>\n",
       "      <td>0.png</td>\n",
       "    </tr>\n",
       "    <tr>\n",
       "      <th>1</th>\n",
       "      <td>4</td>\n",
       "      <td>1.png</td>\n",
       "    </tr>\n",
       "    <tr>\n",
       "      <th>2</th>\n",
       "      <td>3</td>\n",
       "      <td>2.png</td>\n",
       "    </tr>\n",
       "    <tr>\n",
       "      <th>3</th>\n",
       "      <td>0</td>\n",
       "      <td>3.png</td>\n",
       "    </tr>\n",
       "    <tr>\n",
       "      <th>4</th>\n",
       "      <td>2</td>\n",
       "      <td>4.png</td>\n",
       "    </tr>\n",
       "    <tr>\n",
       "      <th>...</th>\n",
       "      <td>...</td>\n",
       "      <td>...</td>\n",
       "    </tr>\n",
       "    <tr>\n",
       "      <th>9995</th>\n",
       "      <td>2</td>\n",
       "      <td>9995.png</td>\n",
       "    </tr>\n",
       "    <tr>\n",
       "      <th>9996</th>\n",
       "      <td>3</td>\n",
       "      <td>9996.png</td>\n",
       "    </tr>\n",
       "    <tr>\n",
       "      <th>9997</th>\n",
       "      <td>2</td>\n",
       "      <td>9997.png</td>\n",
       "    </tr>\n",
       "    <tr>\n",
       "      <th>9998</th>\n",
       "      <td>2</td>\n",
       "      <td>9998.png</td>\n",
       "    </tr>\n",
       "    <tr>\n",
       "      <th>9999</th>\n",
       "      <td>2</td>\n",
       "      <td>9999.png</td>\n",
       "    </tr>\n",
       "  </tbody>\n",
       "</table>\n",
       "<p>10000 rows × 2 columns</p>\n",
       "</div>"
      ],
      "text/plain": [
       "     face_shape file_name\n",
       "0             4     0.png\n",
       "1             4     1.png\n",
       "2             3     2.png\n",
       "3             0     3.png\n",
       "4             2     4.png\n",
       "...         ...       ...\n",
       "9995          2  9995.png\n",
       "9996          3  9996.png\n",
       "9997          2  9997.png\n",
       "9998          2  9998.png\n",
       "9999          2  9999.png\n",
       "\n",
       "[10000 rows x 2 columns]"
      ]
     },
     "execution_count": 8,
     "metadata": {},
     "output_type": "execute_result"
    }
   ],
   "source": [
    "# extracting dataframe of cartoon dataset\n",
    "face_shape = pd.read_csv('D:/ELEC0134 Applied Machine Learning Systems/assignment/dataset_AMLS_20-21/cartoon_set/labels.csv', sep = '\\t')\n",
    "face_shape = face_shape.drop(columns = [face_shape.columns[0]]).drop(columns = [face_shape.columns[1]])\n",
    "face_shape['face_shape'] = face_shape['face_shape'].apply(str)\n",
    "face_shape"
   ]
  },
  {
   "cell_type": "code",
   "execution_count": 9,
   "metadata": {},
   "outputs": [
    {
     "name": "stdout",
     "output_type": "stream",
     "text": [
      "     face_shape file_name\n",
      "6083          3  6083.png\n",
      "2771          0  2771.png\n",
      "5507          2  5507.png\n",
      "7866          3  7866.png\n",
      "6593          2  6593.png\n",
      "...         ...       ...\n",
      "1600          0  1600.png\n",
      "3682          3  3682.png\n",
      "4194          1  4194.png\n",
      "411           3   411.png\n",
      "6396          3  6396.png\n",
      "\n",
      "[9000 rows x 2 columns]      face_shape file_name\n",
      "6813          3  6813.png\n",
      "3489          2  3489.png\n",
      "8480          3  8480.png\n",
      "6951          1  6951.png\n",
      "6476          1  6476.png\n",
      "...         ...       ...\n",
      "7726          1  7726.png\n",
      "9624          1  9624.png\n",
      "4397          3  4397.png\n",
      "5966          1  5966.png\n",
      "9320          1  9320.png\n",
      "\n",
      "[1000 rows x 2 columns]\n"
     ]
    }
   ],
   "source": [
    "img = ('D:/ELEC0134 Applied Machine Learning Systems/assignment/dataset_AMLS_20-21/cartoon_set/img')\n",
    "# splitting training and testing dataset\n",
    "training, testing = np.split(face_shape.sample(frac=1), [int(0.9*len(face_shape)),]) #splitting at n-array\n",
    "print(training, testing)\n",
    "#print_summary(training, testing)\n"
   ]
  },
  {
   "cell_type": "code",
   "execution_count": 10,
   "metadata": {},
   "outputs": [
    {
     "name": "stdout",
     "output_type": "stream",
     "text": [
      "Training Dataset Preparation: \n",
      "Found 7200 validated image filenames belonging to 5 classes.\n",
      "\n",
      "Validation Dataset Preparation: \n",
      "Found 1800 validated image filenames belonging to 5 classes.\n"
     ]
    }
   ],
   "source": [
    "# set up data generator and further split training dataset for validation set\n",
    "data_generator = ImageDataGenerator(\n",
    "    rescale = 1./255.,\n",
    "    validation_split = 0.2,\n",
    "    horizontal_flip=True,\n",
    "    vertical_flip=True   \n",
    ")\n",
    "\n",
    "# Get batches of training dataset from the dataframe\n",
    "print(\"Training Dataset Preparation: \")\n",
    "train_generator = data_generator.flow_from_dataframe(\n",
    "        dataframe = training, directory = img ,\n",
    "        x_col = \"file_name\", y_col = \"face_shape\",\n",
    "        class_mode = 'categorical', target_size = (32,32),\n",
    "        batch_size = 128, subset = 'training') \n",
    "   \n",
    "# Get batches of validation dataset from the dataframe\n",
    "print(\"\\nValidation Dataset Preparation: \")\n",
    "validation_generator = data_generator.flow_from_dataframe(\n",
    "        dataframe = training, directory = img ,\n",
    "        x_col = \"file_name\", y_col = \"face_shape\",\n",
    "        class_mode = 'categorical', target_size = (32,32),\n",
    "        batch_size = 128, subset = 'validation')"
   ]
  },
  {
   "cell_type": "code",
   "execution_count": 24,
   "metadata": {},
   "outputs": [],
   "source": [
    "model = Sequential(name = 'Lenet5')\n",
    "\n",
    "model.add(Conv2D(filters=64, kernel_size=(3, 3), activation='relu', input_shape=(32,32,3)))\n",
    "model.add(AveragePooling2D())\n",
    "\n",
    "model.add(Conv2D(filters=128, kernel_size=(3, 3), activation='relu'))\n",
    "model.add(AveragePooling2D())\n",
    "\n",
    "\n",
    "model.add(Flatten())\n",
    "\n",
    "model.add(Dense(units=120, activation='relu'))\n",
    "\n",
    "model.add(Dense(units=84, activation='relu'))\n",
    "\n",
    "model.add(Dense(units=5, activation = 'softmax'))\n",
    "\n",
    "model.compile(loss = keras.losses.categorical_crossentropy,\n",
    "             optimizer = 'Adam', metrics=['accuracy'])"
   ]
  },
  {
   "cell_type": "code",
   "execution_count": 25,
   "metadata": {},
   "outputs": [
    {
     "name": "stdout",
     "output_type": "stream",
     "text": [
      "Model: \"Lenet5\"\n",
      "_________________________________________________________________\n",
      "Layer (type)                 Output Shape              Param #   \n",
      "=================================================================\n",
      "conv2d_10 (Conv2D)           (None, 30, 30, 64)        1792      \n",
      "_________________________________________________________________\n",
      "average_pooling2d_9 (Average (None, 15, 15, 64)        0         \n",
      "_________________________________________________________________\n",
      "conv2d_11 (Conv2D)           (None, 13, 13, 128)       73856     \n",
      "_________________________________________________________________\n",
      "average_pooling2d_10 (Averag (None, 6, 6, 128)         0         \n",
      "_________________________________________________________________\n",
      "flatten_5 (Flatten)          (None, 4608)              0         \n",
      "_________________________________________________________________\n",
      "dense_13 (Dense)             (None, 120)               553080    \n",
      "_________________________________________________________________\n",
      "dense_14 (Dense)             (None, 84)                10164     \n",
      "_________________________________________________________________\n",
      "dense_15 (Dense)             (None, 5)                 425       \n",
      "=================================================================\n",
      "Total params: 639,317\n",
      "Trainable params: 639,317\n",
      "Non-trainable params: 0\n",
      "_________________________________________________________________\n"
     ]
    }
   ],
   "source": [
    "model.summary()"
   ]
  },
  {
   "cell_type": "code",
   "execution_count": 26,
   "metadata": {},
   "outputs": [
    {
     "name": "stdout",
     "output_type": "stream",
     "text": [
      "Epoch 1/13\n",
      "56/56 [==============================] - 66s 1s/step - loss: 1.6105 - accuracy: 0.2042 - val_loss: 1.6101 - val_accuracy: 0.1992\n",
      "Epoch 2/13\n",
      "56/56 [==============================] - 75s 1s/step - loss: 1.6097 - accuracy: 0.2022 - val_loss: 1.6090 - val_accuracy: 0.2159\n",
      "Epoch 3/13\n",
      "56/56 [==============================] - 51s 908ms/step - loss: 1.5891 - accuracy: 0.2551 - val_loss: 1.5176 - val_accuracy: 0.3666\n",
      "Epoch 4/13\n",
      "56/56 [==============================] - 42s 753ms/step - loss: 1.2782 - accuracy: 0.4143 - val_loss: 1.0980 - val_accuracy: 0.4976\n",
      "Epoch 5/13\n",
      "56/56 [==============================] - 51s 907ms/step - loss: 1.0634 - accuracy: 0.5208 - val_loss: 1.0952 - val_accuracy: 0.5203\n",
      "Epoch 6/13\n",
      "56/56 [==============================] - 39s 690ms/step - loss: 0.9099 - accuracy: 0.6201 - val_loss: 0.9403 - val_accuracy: 0.5927\n",
      "Epoch 7/13\n",
      "56/56 [==============================] - 38s 671ms/step - loss: 0.7873 - accuracy: 0.6838 - val_loss: 0.8071 - val_accuracy: 0.7273\n",
      "Epoch 8/13\n",
      "56/56 [==============================] - 37s 653ms/step - loss: 0.6653 - accuracy: 0.7574 - val_loss: 0.6388 - val_accuracy: 0.7566\n",
      "Epoch 9/13\n",
      "56/56 [==============================] - 36s 640ms/step - loss: 0.5570 - accuracy: 0.7999 - val_loss: 0.5181 - val_accuracy: 0.8224\n",
      "Epoch 10/13\n",
      "56/56 [==============================] - 36s 643ms/step - loss: 0.4713 - accuracy: 0.8380 - val_loss: 0.4578 - val_accuracy: 0.8547\n",
      "Epoch 11/13\n",
      "56/56 [==============================] - 47s 838ms/step - loss: 0.4025 - accuracy: 0.8657 - val_loss: 0.3382 - val_accuracy: 0.8822\n",
      "Epoch 12/13\n",
      "56/56 [==============================] - 62s 1s/step - loss: 0.3568 - accuracy: 0.8869 - val_loss: 0.2630 - val_accuracy: 0.8995\n",
      "Epoch 13/13\n",
      "56/56 [==============================] - 62s 1s/step - loss: 0.3255 - accuracy: 0.8978 - val_loss: 0.3709 - val_accuracy: 0.9073\n"
     ]
    }
   ],
   "source": [
    "# batch_size = 32\n",
    "history = model.fit_generator(\n",
    "                                train_generator,\n",
    "                                epochs=13,\n",
    "                                steps_per_epoch=train_generator.samples // train_generator.batch_size, \n",
    "                                validation_data=validation_generator,\n",
    "                                validation_steps=validation_generator.samples // validation_generator.batch_size\n",
    "                                )"
   ]
  },
  {
   "cell_type": "code",
   "execution_count": 28,
   "metadata": {},
   "outputs": [
    {
     "data": {
      "text/plain": [
       "<matplotlib.legend.Legend at 0x265bd074eb8>"
      ]
     },
     "execution_count": 28,
     "metadata": {},
     "output_type": "execute_result"
    },
    {
     "data": {
      "image/png": "[encoded data removed]",
      "text/plain": [
       "<Figure size 432x288 with 1 Axes>"
      ]
     },
     "metadata": {
      "needs_background": "light"
     },
     "output_type": "display_data"
    }
   ],
   "source": [
    "plt.plot(history.history['accuracy'], 'o-', label='Training acc')\n",
    "plt.plot(history.history['val_accuracy'], 'x-', label='Validation acc')\n",
    "plt.xlabel('iterations')\n",
    "plt.ylabel('Loss')\n",
    "plt.legend()"
   ]
  },
  {
   "cell_type": "code",
   "execution_count": 29,
   "metadata": {},
   "outputs": [
    {
     "data": {
      "text/plain": [
       "<matplotlib.legend.Legend at 0x265bd113240>"
      ]
     },
     "execution_count": 29,
     "metadata": {},
     "output_type": "execute_result"
    },
    {
     "data": {
      "image/png": "[encoded data removed]",
      "text/plain": [
       "<Figure size 432x288 with 1 Axes>"
      ]
     },
     "metadata": {
      "needs_background": "light"
     },
     "output_type": "display_data"
    }
   ],
   "source": [
    "plt.plot(history.history['loss'], 'o-', label='Training Loss')\n",
    "plt.plot(history.history['val_loss'], 'x-', label='Validation Loss')\n",
    "plt.xlabel('iterations')\n",
    "plt.ylabel('Loss')\n",
    "plt.legend()"
   ]
  },
  {
   "cell_type": "code",
   "execution_count": 30,
   "metadata": {},
   "outputs": [
    {
     "data": {
      "text/plain": [
       "[<keras.layers.convolutional.Conv2D at 0x265bf8da1d0>,\n",
       " <keras.layers.pooling.AveragePooling2D at 0x265bf8daba8>,\n",
       " <keras.layers.convolutional.Conv2D at 0x265bf8d7390>,\n",
       " <keras.layers.pooling.AveragePooling2D at 0x265bf8d7ac8>,\n",
       " <keras.layers.core.Flatten at 0x265bf8d7748>,\n",
       " <keras.layers.core.Dense at 0x265bf8d7eb8>,\n",
       " <keras.layers.core.Dense at 0x265bf8d7cc0>,\n",
       " <keras.layers.core.Dense at 0x265bfc02978>]"
      ]
     },
     "execution_count": 30,
     "metadata": {},
     "output_type": "execute_result"
    }
   ],
   "source": [
    "model.layers"
   ]
  },
  {
   "cell_type": "code",
   "execution_count": 33,
   "metadata": {},
   "outputs": [
    {
     "name": "stdout",
     "output_type": "stream",
     "text": [
      "filter sizes :  (3, 3, 3, 64)\n"
     ]
    },
    {
     "name": "stderr",
     "output_type": "stream",
     "text": [
      "D:\\Anaconda\\envs\\lab1\\lib\\site-packages\\ipykernel_launcher.py:13: MatplotlibDeprecationWarning: Adding an axes using the same arguments as a previous axes currently reuses the earlier instance.  In a future version, a new instance will always be created and returned.  Meanwhile, this warning can be suppressed, and the future behavior ensured, by passing a unique label to each axes instance.\n",
      "  del sys.path[0]\n"
     ]
    },
    {
     "data": {
      "image/png": "[encoded data removed]",
      "text/plain": [
       "<Figure size 432x288 with 64 Axes>"
      ]
     },
     "metadata": {
      "needs_background": "light"
     },
     "output_type": "display_data"
    }
   ],
   "source": [
    "# retrieve weights from the first convolutional layer\n",
    "filters, biases = model.layers[0].get_weights()\n",
    "print('filter sizes : ', filters.shape)\n",
    "\n",
    "# normalize filter values\n",
    "f_min, f_max = filters.min(), filters.max()\n",
    "filters = (filters - f_min) / (f_max - f_min)\n",
    "\n",
    "n_filters = filters.shape[3]\n",
    "for i in range(n_filters):\n",
    "    f = filters[:, :, :, i]\n",
    "    for j in range(f.shape[2]):\n",
    "        plt.subplot(8, 8, i+1)\n",
    "        plt.imshow(f[:, :, j], cmap='gray')\n",
    "        plt.axis('off')"
   ]
  },
  {
   "cell_type": "code",
   "execution_count": 28,
   "metadata": {},
   "outputs": [],
   "source": [
    "# saving model\n",
    "from keras.models import load_model\n",
    "\n",
    "modelFile = 'face_shape.h5'\n",
    "\n",
    "my_model.save(modelFile)"
   ]
  },
  {
   "cell_type": "code",
   "execution_count": 29,
   "metadata": {},
   "outputs": [
    {
     "data": {
      "text/plain": [
       "'C:\\\\Users\\\\82419\\\\Machine Learning\\\\assignment\\\\task B'"
      ]
     },
     "execution_count": 29,
     "metadata": {},
     "output_type": "execute_result"
    }
   ],
   "source": [
    "os.getcwd()"
   ]
  }
 ],
 "metadata": {
  "kernelspec": {
   "display_name": "Python 3",
   "language": "python",
   "name": "python3"
  },
  "language_info": {
   "codemirror_mode": {
    "name": "ipython",
    "version": 3
   },
   "file_extension": ".py",
   "mimetype": "text/x-python",
   "name": "python",
   "nbconvert_exporter": "python",
   "pygments_lexer": "ipython3",
   "version": "3.6.12"
  }
 },
 "nbformat": 4,
 "nbformat_minor": 4
}
