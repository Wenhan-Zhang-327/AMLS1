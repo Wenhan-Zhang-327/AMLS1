{
 "cells": [
  {
   "cell_type": "code",
   "execution_count": 1,
   "metadata": {},
   "outputs": [
    {
     "name": "stderr",
     "output_type": "stream",
     "text": [
      "Using TensorFlow backend.\n"
     ]
    }
   ],
   "source": [
    "import time\n",
    "start_time = time.time()\n",
    "import os\n",
    "import numpy as np\n",
    "from keras import optimizers\n",
    "from keras.preprocessing import image\n",
    "from keras.layers import Dense, Conv2D, MaxPooling2D, BatchNormalization, GlobalAveragePooling2D\n",
    "from keras.layers import Activation, Dropout, Flatten, Dense\n",
    "from keras.models import Sequential\n",
    "from keras import backend as K\n",
    "from keras.optimizers import adam\n",
    "from keras import models\n",
    "import cv2\n",
    "#import dlib\n",
    "import pandas as pd\n",
    "import matplotlib.pyplot as plt\n",
    "import sys\n",
    "import time \n",
    "#import progressbar\n",
    "#from tqdm.notebook import tqdm_notebook\n",
    "from sklearn import svm, datasets\n",
    "from sklearn.dummy import DummyClassifier\n",
    "from sklearn.svm import SVC\n",
    "from sklearn.utils import shuffle\n",
    "from sklearn.model_selection import train_test_split, GridSearchCV, learning_curve, ShuffleSplit\n",
    "from sklearn.metrics import classification_report, accuracy_score, confusion_matrix, recall_score, precision_score, f1_score\n",
    "#from tensorflow.python.keras.applications.vgg16 import preprocess_input\n",
    "from tensorflow.python.keras.preprocessing.image import ImageDataGenerator\n",
    "from tensorflow.python.keras.callbacks import EarlyStopping, ModelCheckpoint\n",
    "import keras\n",
    "from keras.utils import np_utils\n",
    "from keras.models import Sequential\n",
    "from keras.layers import Dense, AveragePooling2D, Conv2D, Flatten"
   ]
  },
  {
   "cell_type": "code",
   "execution_count": 2,
   "metadata": {},
   "outputs": [],
   "source": [
    "# extracting dataframe of cartoon dataset\n",
    "face_shape = pd.read_csv('D:/ELEC0134 Applied Machine Learning Systems/assignment/dataset_AMLS_20-21/cartoon_set/labels.csv', sep = '\\t')\n",
    "face_shape = face_shape.drop(columns = [face_shape.columns[0]]).drop(columns = [face_shape.columns[1]])\n",
    "face_shape['face_shape'] = face_shape['face_shape'].apply(str)\n",
    "#face_shape"
   ]
  },
  {
   "cell_type": "code",
   "execution_count": 3,
   "metadata": {},
   "outputs": [
    {
     "name": "stdout",
     "output_type": "stream",
     "text": [
      "(9000, 2) (1000, 2)\n"
     ]
    }
   ],
   "source": [
    "img = ('D:/ELEC0134 Applied Machine Learning Systems/assignment/dataset_AMLS_20-21/cartoon_set/img')\n",
    "# splitting training and testing dataset\n",
    "training, testing = np.split(face_shape.sample(frac=1), [int(0.9*len(face_shape)),]) #splitting at n-array\n",
    "print(training.shape, testing.shape)\n",
    "#print_summary(training, testing)\n"
   ]
  },
  {
   "cell_type": "code",
   "execution_count": 10,
   "metadata": {},
   "outputs": [
    {
     "name": "stdout",
     "output_type": "stream",
     "text": [
      "Training Dataset Preparation: \n",
      "Found 7200 validated image filenames belonging to 5 classes.\n",
      "\n",
      "Validation Dataset Preparation: \n",
      "Found 1800 validated image filenames belonging to 5 classes.\n"
     ]
    }
   ],
   "source": [
    "# set up data generator and further split training dataset for validation set\n",
    "data_generator = ImageDataGenerator(\n",
    "    rescale = 1./255.,\n",
    "    validation_split = 0.2,\n",
    "    horizontal_flip=True,\n",
    "    vertical_flip=True   \n",
    ")\n",
    "\n",
    "# Get batches of training dataset from the dataframe\n",
    "print(\"Training Dataset Preparation: \")\n",
    "train_generator = data_generator.flow_from_dataframe(\n",
    "        dataframe = training, directory = img ,\n",
    "        x_col = \"file_name\", y_col = \"face_shape\",\n",
    "        class_mode = 'categorical', target_size = (32,32),\n",
    "        batch_size = 128, subset = 'training') \n",
    "   \n",
    "# Get batches of validation dataset from the dataframe\n",
    "print(\"\\nValidation Dataset Preparation: \")\n",
    "validation_generator = data_generator.flow_from_dataframe(\n",
    "        dataframe = training, directory = img ,\n",
    "        x_col = \"file_name\", y_col = \"face_shape\",\n",
    "        class_mode = 'categorical', target_size = (32,32),\n",
    "        batch_size = 128, subset = 'validation')"
   ]
  },
  {
   "cell_type": "code",
   "execution_count": 11,
   "metadata": {},
   "outputs": [],
   "source": [
    "model = Sequential(name = 'Face_shape')\n",
    "\n",
    "model.add(Conv2D(filters=64, kernel_size=(3, 3), activation='relu', input_shape=(32,32,3)))\n",
    "model.add(AveragePooling2D())\n",
    "\n",
    "model.add(Conv2D(filters=128, kernel_size=(3, 3), activation='relu'))\n",
    "model.add(AveragePooling2D())\n",
    "\n",
    "\n",
    "model.add(Flatten())\n",
    "\n",
    "model.add(Dense(units=120, activation='relu'))\n",
    "\n",
    "model.add(Dense(units=84, activation='relu'))\n",
    "\n",
    "model.add(Dense(units=5, activation = 'softmax'))\n",
    "\n",
    "model.compile(loss = keras.losses.categorical_crossentropy,\n",
    "             optimizer = 'Adam', metrics=['accuracy'])"
   ]
  },
  {
   "cell_type": "code",
   "execution_count": 12,
   "metadata": {},
   "outputs": [
    {
     "name": "stdout",
     "output_type": "stream",
     "text": [
      "Model: \"Face_shape\"\n",
      "_________________________________________________________________\n",
      "Layer (type)                 Output Shape              Param #   \n",
      "=================================================================\n",
      "conv2d_5 (Conv2D)            (None, 30, 30, 64)        1792      \n",
      "_________________________________________________________________\n",
      "average_pooling2d_5 (Average (None, 15, 15, 64)        0         \n",
      "_________________________________________________________________\n",
      "conv2d_6 (Conv2D)            (None, 13, 13, 128)       73856     \n",
      "_________________________________________________________________\n",
      "average_pooling2d_6 (Average (None, 6, 6, 128)         0         \n",
      "_________________________________________________________________\n",
      "flatten_3 (Flatten)          (None, 4608)              0         \n",
      "_________________________________________________________________\n",
      "dense_7 (Dense)              (None, 120)               553080    \n",
      "_________________________________________________________________\n",
      "dense_8 (Dense)              (None, 84)                10164     \n",
      "_________________________________________________________________\n",
      "dense_9 (Dense)              (None, 5)                 425       \n",
      "=================================================================\n",
      "Total params: 639,317\n",
      "Trainable params: 639,317\n",
      "Non-trainable params: 0\n",
      "_________________________________________________________________\n"
     ]
    }
   ],
   "source": [
    "model.summary()"
   ]
  },
  {
   "cell_type": "code",
   "execution_count": 13,
   "metadata": {},
   "outputs": [
    {
     "name": "stdout",
     "output_type": "stream",
     "text": [
      "Epoch 1/15\n",
      "56/56 [==============================] - 71s 1s/step - loss: 1.6115 - accuracy: 0.2023 - val_loss: 1.6113 - val_accuracy: 0.1925\n",
      "Epoch 2/15\n",
      "56/56 [==============================] - 79s 1s/step - loss: 1.6099 - accuracy: 0.2025 - val_loss: 1.6101 - val_accuracy: 0.2470\n",
      "Epoch 3/15\n",
      "56/56 [==============================] - 76s 1s/step - loss: 1.5843 - accuracy: 0.2687 - val_loss: 1.4885 - val_accuracy: 0.3260\n",
      "Epoch 4/15\n",
      "56/56 [==============================] - 76s 1s/step - loss: 1.2871 - accuracy: 0.4304 - val_loss: 1.0846 - val_accuracy: 0.5431\n",
      "Epoch 5/15\n",
      "56/56 [==============================] - 74s 1s/step - loss: 1.0610 - accuracy: 0.5270 - val_loss: 1.1188 - val_accuracy: 0.5365\n",
      "Epoch 6/15\n",
      "56/56 [==============================] - 72s 1s/step - loss: 0.9450 - accuracy: 0.5901 - val_loss: 0.9639 - val_accuracy: 0.5461\n",
      "Epoch 7/15\n",
      "56/56 [==============================] - 74s 1s/step - loss: 0.8550 - accuracy: 0.6336 - val_loss: 0.8788 - val_accuracy: 0.6854\n",
      "Epoch 8/15\n",
      "56/56 [==============================] - 72s 1s/step - loss: 0.7343 - accuracy: 0.7042 - val_loss: 0.7518 - val_accuracy: 0.7410\n",
      "Epoch 9/15\n",
      "56/56 [==============================] - 69s 1s/step - loss: 0.6292 - accuracy: 0.7623 - val_loss: 0.5889 - val_accuracy: 0.7536\n",
      "Epoch 10/15\n",
      "56/56 [==============================] - 69s 1s/step - loss: 0.5535 - accuracy: 0.7949 - val_loss: 0.5111 - val_accuracy: 0.8421\n",
      "Epoch 11/15\n",
      "56/56 [==============================] - 66s 1s/step - loss: 0.4595 - accuracy: 0.8384 - val_loss: 0.5303 - val_accuracy: 0.8134\n",
      "Epoch 12/15\n",
      "56/56 [==============================] - 70s 1s/step - loss: 0.3857 - accuracy: 0.8725 - val_loss: 0.4169 - val_accuracy: 0.8594\n",
      "Epoch 13/15\n",
      "56/56 [==============================] - 69s 1s/step - loss: 0.3611 - accuracy: 0.8768 - val_loss: 0.3103 - val_accuracy: 0.9019\n",
      "Epoch 14/15\n",
      "56/56 [==============================] - 69s 1s/step - loss: 0.2811 - accuracy: 0.9080 - val_loss: 0.2773 - val_accuracy: 0.8989\n",
      "Epoch 15/15\n",
      "56/56 [==============================] - 63s 1s/step - loss: 0.2724 - accuracy: 0.9147 - val_loss: 0.2272 - val_accuracy: 0.9193\n"
     ]
    }
   ],
   "source": [
    "# batch_size = 32\n",
    "history = model.fit_generator(\n",
    "                                train_generator,\n",
    "                                epochs=15,\n",
    "                                steps_per_epoch=train_generator.samples // train_generator.batch_size, \n",
    "                                validation_data=validation_generator,\n",
    "                                validation_steps=validation_generator.samples // validation_generator.batch_size\n",
    "                                )"
   ]
  },
  {
   "cell_type": "code",
   "execution_count": 14,
   "metadata": {},
   "outputs": [
    {
     "data": {
      "text/plain": [
       "<matplotlib.legend.Legend at 0x2614104feb8>"
      ]
     },
     "execution_count": 14,
     "metadata": {},
     "output_type": "execute_result"
    },
    {
     "data": {
      "image/png": "[encoded data removed]",
      "text/plain": [
       "<Figure size 432x288 with 1 Axes>"
      ]
     },
     "metadata": {
      "needs_background": "light"
     },
     "output_type": "display_data"
    }
   ],
   "source": [
    "plt.plot(history.history['accuracy'], 'o-', label='Training acc')\n",
    "plt.plot(history.history['val_accuracy'], 'x-', label='Validation acc')\n",
    "plt.xlabel('iterations')\n",
    "plt.ylabel('Accuracy')\n",
    "plt.legend()"
   ]
  },
  {
   "cell_type": "code",
   "execution_count": 15,
   "metadata": {},
   "outputs": [
    {
     "data": {
      "text/plain": [
       "<matplotlib.legend.Legend at 0x2613ffb7b70>"
      ]
     },
     "execution_count": 15,
     "metadata": {},
     "output_type": "execute_result"
    },
    {
     "data": {
      "image/png": "[encoded data removed]",
      "text/plain": [
       "<Figure size 432x288 with 1 Axes>"
      ]
     },
     "metadata": {
      "needs_background": "light"
     },
     "output_type": "display_data"
    }
   ],
   "source": [
    "plt.plot(history.history['loss'], 'o-', label='Training Loss')\n",
    "plt.plot(history.history['val_loss'], 'x-', label='Validation Loss')\n",
    "plt.xlabel('iterations')\n",
    "plt.ylabel('Loss')\n",
    "plt.legend()"
   ]
  },
  {
   "cell_type": "code",
   "execution_count": 30,
   "metadata": {},
   "outputs": [
    {
     "data": {
      "text/plain": [
       "[<keras.layers.convolutional.Conv2D at 0x265bf8da1d0>,\n",
       " <keras.layers.pooling.AveragePooling2D at 0x265bf8daba8>,\n",
       " <keras.layers.convolutional.Conv2D at 0x265bf8d7390>,\n",
       " <keras.layers.pooling.AveragePooling2D at 0x265bf8d7ac8>,\n",
       " <keras.layers.core.Flatten at 0x265bf8d7748>,\n",
       " <keras.layers.core.Dense at 0x265bf8d7eb8>,\n",
       " <keras.layers.core.Dense at 0x265bf8d7cc0>,\n",
       " <keras.layers.core.Dense at 0x265bfc02978>]"
      ]
     },
     "execution_count": 30,
     "metadata": {},
     "output_type": "execute_result"
    }
   ],
   "source": [
    "model.layers"
   ]
  },
  {
   "cell_type": "code",
   "execution_count": 33,
   "metadata": {},
   "outputs": [
    {
     "name": "stdout",
     "output_type": "stream",
     "text": [
      "filter sizes :  (3, 3, 3, 64)\n"
     ]
    },
    {
     "name": "stderr",
     "output_type": "stream",
     "text": [
      "D:\\Anaconda\\envs\\lab1\\lib\\site-packages\\ipykernel_launcher.py:13: MatplotlibDeprecationWarning: Adding an axes using the same arguments as a previous axes currently reuses the earlier instance.  In a future version, a new instance will always be created and returned.  Meanwhile, this warning can be suppressed, and the future behavior ensured, by passing a unique label to each axes instance.\n",
      "  del sys.path[0]\n"
     ]
    },
    {
     "data": {
      "image/png": "[encoded data removed]",
      "text/plain": [
       "<Figure size 432x288 with 64 Axes>"
      ]
     },
     "metadata": {
      "needs_background": "light"
     },
     "output_type": "display_data"
    }
   ],
   "source": [
    "# retrieve weights from the first convolutional layer\n",
    "filters, biases = model.layers[0].get_weights()\n",
    "print('filter sizes : ', filters.shape)\n",
    "\n",
    "# normalize filter values\n",
    "f_min, f_max = filters.min(), filters.max()\n",
    "filters = (filters - f_min) / (f_max - f_min)\n",
    "\n",
    "n_filters = filters.shape[3]\n",
    "for i in range(n_filters):\n",
    "    f = filters[:, :, :, i]\n",
    "    for j in range(f.shape[2]):\n",
    "        plt.subplot(8, 8, i+1)\n",
    "        plt.imshow(f[:, :, j], cmap='gray')\n",
    "        plt.axis('off')"
   ]
  },
  {
   "cell_type": "code",
   "execution_count": 28,
   "metadata": {},
   "outputs": [],
   "source": [
    "# saving model\n",
    "from keras.models import load_model\n",
    "\n",
    "modelFile = 'face_shape.h5'\n",
    "\n",
    "model.save(modelFile)"
   ]
  },
  {
   "cell_type": "code",
   "execution_count": 29,
   "metadata": {},
   "outputs": [
    {
     "data": {
      "text/plain": [
       "'C:\\\\Users\\\\82419\\\\Machine Learning\\\\assignment\\\\task B'"
      ]
     },
     "execution_count": 29,
     "metadata": {},
     "output_type": "execute_result"
    }
   ],
   "source": [
    "os.getcwd()"
   ]
  },
  {
   "cell_type": "code",
   "execution_count": 4,
   "metadata": {},
   "outputs": [],
   "source": [
    "# extracting new test dataset\n",
    "df2 = pd.read_csv('D:/ELEC0134 Applied Machine Learning Systems/assignment/dataset_AMLS_20-21_test/cartoon_set_test/labels.csv', sep = '\\t')\n",
    "df2 = df2.drop(columns = [df2.columns[0]]).drop(columns = [df2.columns[1]])\n",
    "df2['face_shape'] = df2['face_shape'].apply(str)\n",
    "img2 = ('D:/ELEC0134 Applied Machine Learning Systems/assignment/dataset_AMLS_20-21_test/cartoon_set_test/img')"
   ]
  },
  {
   "cell_type": "code",
   "execution_count": 9,
   "metadata": {},
   "outputs": [
    {
     "name": "stdout",
     "output_type": "stream",
     "text": [
      "Found 2500 validated image filenames belonging to 5 classes.\n"
     ]
    }
   ],
   "source": [
    "from keras.models import load_model\n",
    "modelFile = 'face_shape.h5'\n",
    "saved_model = load_model(modelFile)\n",
    "data_generator = ImageDataGenerator(\n",
    "    rescale = 1./255.,\n",
    "    validation_split = 0.2,\n",
    "    horizontal_flip=True,\n",
    "    vertical_flip=True   \n",
    ")\n",
    "test_generator = data_generator.flow_from_dataframe(\n",
    "        dataframe = df2, directory = img2,\n",
    "        x_col = \"file_name\", y_col = \"face_shape\",\n",
    "        batch_size=1,\n",
    "        class_mode='categorical', target_size=(32, 32),\n",
    "        shuffle=False)\n",
    "test_steps = test_generator.samples"
   ]
  },
  {
   "cell_type": "code",
   "execution_count": 11,
   "metadata": {},
   "outputs": [
    {
     "name": "stdout",
     "output_type": "stream",
     "text": [
      "2500/2500 [==============================] - 47s 19ms/step\n"
     ]
    }
   ],
   "source": [
    "test_generator.reset()\n",
    "pred=saved_model.predict_generator(test_generator, verbose=1, steps=test_steps)\n",
    "# determine the maximum activation value for each sample\n",
    "predicted_class_indices=np.argmax(pred,axis=1)\n",
    "# print(predicted_class_indices)\n",
    "# label each predicted value to correct face shape\n",
    "labels = (test_generator.class_indices)\n",
    "labels = dict((v,k) for k,v in labels.items())\n",
    "predictions = [labels[k] for k in predicted_class_indices]"
   ]
  },
  {
   "cell_type": "code",
   "execution_count": 15,
   "metadata": {},
   "outputs": [
    {
     "name": "stdout",
     "output_type": "stream",
     "text": [
      "[[395  49   0  36  20]\n",
      " [  5 476   0  15   4]\n",
      " [  0   0 498   1   1]\n",
      " [  3  15   6 469   7]\n",
      " [  3   9   2  10 476]]\n",
      "\n",
      "Confusion Matrix\n"
     ]
    },
    {
     "data": {
      "image/png": "[encoded data removed]",
      "text/plain": [
       "<Figure size 288x288 with 2 Axes>"
      ]
     },
     "metadata": {
      "needs_background": "light"
     },
     "output_type": "display_data"
    },
    {
     "name": "stdout",
     "output_type": "stream",
     "text": [
      "[[0.158  0.0196 0.     0.0144 0.008 ]\n",
      " [0.002  0.1904 0.     0.006  0.0016]\n",
      " [0.     0.     0.1992 0.0004 0.0004]\n",
      " [0.0012 0.006  0.0024 0.1876 0.0028]\n",
      " [0.0012 0.0036 0.0008 0.004  0.1904]]\n",
      "\n",
      "Confusion Matrix (normalised)\n"
     ]
    },
    {
     "data": {
      "image/png": "[encoded data removed]",
      "text/plain": [
       "<Figure size 288x288 with 2 Axes>"
      ]
     },
     "metadata": {
      "needs_background": "light"
     },
     "output_type": "display_data"
    },
    {
     "name": "stdout",
     "output_type": "stream",
     "text": [
      "Classification report\n",
      "\n",
      "              precision    recall  f1-score   support\n",
      "\n",
      "           0       0.97      0.79      0.87       500\n",
      "           1       0.87      0.95      0.91       500\n",
      "           2       0.98      1.00      0.99       500\n",
      "           3       0.88      0.94      0.91       500\n",
      "           4       0.94      0.95      0.94       500\n",
      "\n",
      "    accuracy                           0.93      2500\n",
      "   macro avg       0.93      0.93      0.92      2500\n",
      "weighted avg       0.93      0.93      0.92      2500\n",
      "\n",
      "Accuracy: 0.9256\n"
     ]
    }
   ],
   "source": [
    "import sklearn.metrics as metrics\n",
    "# displaying confusion matrix\n",
    "cm = confusion_matrix(test_generator.classes, predicted_class_indices)\n",
    "cmap = plt.get_cmap('Pastel1')\n",
    "print(cm)\n",
    "plt.matshow(cm)\n",
    "plt.imshow(cm, cmap=cmap)\n",
    "plt.colorbar()\n",
    "plt.ylabel('True label')\n",
    "plt.xlabel('Predicted label')\n",
    "print('\\nConfusion Matrix')\n",
    "plt.show()\n",
    "\n",
    "\n",
    "cm2 = confusion_matrix(test_generator.classes, predicted_class_indices, normalize='all')\n",
    "\n",
    "print(cm2)\n",
    "plt.matshow(cm2)\n",
    "plt.imshow(cm2, cmap=cmap)\n",
    "plt.colorbar()\n",
    "plt.ylabel('True label')\n",
    "plt.xlabel('Predicted label')\n",
    "print('\\nConfusion Matrix (normalised)')\n",
    "plt.show()\n",
    "\n",
    "print('Classification report\\n')\n",
    "print(classification_report(test_generator.classes, predicted_class_indices))\n",
    "print('Accuracy:', accuracy_score(test_generator.classes, predicted_class_indices))"
   ]
  }
 ],
 "metadata": {
  "kernelspec": {
   "display_name": "Python 3",
   "language": "python",
   "name": "python3"
  },
  "language_info": {
   "codemirror_mode": {
    "name": "ipython",
    "version": 3
   },
   "file_extension": ".py",
   "mimetype": "text/x-python",
   "name": "python",
   "nbconvert_exporter": "python",
   "pygments_lexer": "ipython3",
   "version": "3.6.12"
  }
 },
 "nbformat": 4,
 "nbformat_minor": 4
}
