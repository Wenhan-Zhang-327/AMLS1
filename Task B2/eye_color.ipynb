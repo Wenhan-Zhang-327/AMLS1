{
 "cells": [
  {
   "cell_type": "code",
   "execution_count": 1,
   "metadata": {},
   "outputs": [
    {
     "name": "stderr",
     "output_type": "stream",
     "text": [
      "Using TensorFlow backend.\n"
     ]
    }
   ],
   "source": [
    "import time\n",
    "start_time = time.time()\n",
    "import os\n",
    "import numpy as np\n",
    "from keras import optimizers\n",
    "from keras.preprocessing import image\n",
    "from keras.layers import Dense, Conv2D, MaxPooling2D, BatchNormalization, GlobalAveragePooling2D\n",
    "from keras.layers import Activation, Dropout, Flatten, Dense\n",
    "from keras.models import Sequential\n",
    "from keras import backend as K\n",
    "from keras.optimizers import adam\n",
    "from keras import models\n",
    "import cv2\n",
    "#import dlib\n",
    "import pandas as pd\n",
    "import matplotlib.pyplot as plt\n",
    "import sys\n",
    "import time \n",
    "#import progressbar\n",
    "#from tqdm.notebook import tqdm_notebook\n",
    "from sklearn import svm, datasets\n",
    "from sklearn.dummy import DummyClassifier\n",
    "from sklearn.svm import SVC\n",
    "from sklearn.utils import shuffle\n",
    "from sklearn.model_selection import train_test_split, GridSearchCV, learning_curve, ShuffleSplit\n",
    "from sklearn.metrics import classification_report, accuracy_score, confusion_matrix, recall_score, precision_score, f1_score\n",
    "from tensorflow.python.keras.applications.vgg16 import preprocess_input\n",
    "from tensorflow.python.keras.preprocessing.image import ImageDataGenerator\n",
    "from tensorflow.python.keras.callbacks import EarlyStopping, ModelCheckpoint\n",
    "import keras\n",
    "from keras.utils import np_utils\n",
    "from keras.models import Sequential\n",
    "from keras.layers import Dense, AveragePooling2D, Conv2D, Flatten"
   ]
  },
  {
   "cell_type": "code",
   "execution_count": 2,
   "metadata": {},
   "outputs": [],
   "source": [
    "# extracting dataframe of cartoon dataset\n",
    "eye_color = pd.read_csv('D:/ELEC0134 Applied Machine Learning Systems/assignment/dataset_AMLS_20-21/cartoon_set/labels.csv', sep = '\\t')\n",
    "eye_color = eye_color.drop(columns = [eye_color.columns[0]]).drop(columns = [eye_color.columns[2]])\n",
    "eye_color['eye_color'] = eye_color['eye_color'].apply(str)\n",
    "#eye_color"
   ]
  },
  {
   "cell_type": "code",
   "execution_count": 3,
   "metadata": {},
   "outputs": [
    {
     "name": "stdout",
     "output_type": "stream",
     "text": [
      "(9000, 2) (1000, 2)\n"
     ]
    }
   ],
   "source": [
    "img = ('D:/ELEC0134 Applied Machine Learning Systems/assignment/dataset_AMLS_20-21/cartoon_set/img')\n",
    "# splitting training and testing dataset\n",
    "training, testing = np.split(eye_color.sample(frac=1), [int(0.9*len(eye_color)),]) #splitting at n-array\n",
    "print(training.shape, testing.shape)"
   ]
  },
  {
   "cell_type": "code",
   "execution_count": 4,
   "metadata": {},
   "outputs": [
    {
     "name": "stdout",
     "output_type": "stream",
     "text": [
      "Training Dataset Preparation: \n",
      "Found 7200 validated image filenames belonging to 5 classes.\n",
      "\n",
      "Validation Dataset Preparation: \n",
      "Found 1800 validated image filenames belonging to 5 classes.\n"
     ]
    }
   ],
   "source": [
    "# set up data generator and further split training dataset for validation set\n",
    "data_generator = ImageDataGenerator(\n",
    "    rescale = 1./255.,\n",
    "    validation_split = 0.2,\n",
    "    horizontal_flip=True,\n",
    "    vertical_flip=True   \n",
    ")\n",
    "\n",
    "# Get batches of training dataset from the dataframe\n",
    "print(\"Training Dataset Preparation: \")\n",
    "train_generator = data_generator.flow_from_dataframe(\n",
    "        dataframe = training, directory = img ,\n",
    "        x_col = \"file_name\", y_col = \"eye_color\",\n",
    "        class_mode = 'categorical', target_size = (128,128),\n",
    "        batch_size = 128, subset = 'training') \n",
    "   \n",
    "# Get batches of validation dataset from the dataframe\n",
    "print(\"\\nValidation Dataset Preparation: \")\n",
    "validation_generator = data_generator.flow_from_dataframe(\n",
    "        dataframe = training, directory = img ,\n",
    "        x_col = \"file_name\", y_col = \"eye_color\",\n",
    "        class_mode = 'categorical', target_size = (128,128),\n",
    "        batch_size = 128, subset = 'validation')"
   ]
  },
  {
   "cell_type": "code",
   "execution_count": 5,
   "metadata": {},
   "outputs": [],
   "source": [
    "model = Sequential(name = 'Eye Color')\n",
    "\n",
    "model.add(Conv2D(filters=64, kernel_size=(3, 3), activation='relu', input_shape=(128,128,3)))\n",
    "model.add(MaxPooling2D())\n",
    "\n",
    "model.add(Conv2D(filters=128, kernel_size=(3, 3), activation='relu'))\n",
    "model.add(MaxPooling2D())\n",
    "\n",
    "\n",
    "\n",
    "model.add(Flatten())\n",
    "\n",
    "model.add(Dense(units=120, activation='relu'))\n",
    "\n",
    "model.add(Dense(units=84, activation='relu'))\n",
    "\n",
    "model.add(Dense(units=5, activation = 'softmax'))\n",
    "\n",
    "model.compile(loss = keras.losses.categorical_crossentropy,\n",
    "             optimizer = 'Adam', metrics=['accuracy'])"
   ]
  },
  {
   "cell_type": "code",
   "execution_count": 6,
   "metadata": {},
   "outputs": [
    {
     "name": "stdout",
     "output_type": "stream",
     "text": [
      "Model: \"Eye Color\"\n",
      "_________________________________________________________________\n",
      "Layer (type)                 Output Shape              Param #   \n",
      "=================================================================\n",
      "conv2d_1 (Conv2D)            (None, 126, 126, 64)      1792      \n",
      "_________________________________________________________________\n",
      "max_pooling2d_1 (MaxPooling2 (None, 63, 63, 64)        0         \n",
      "_________________________________________________________________\n",
      "conv2d_2 (Conv2D)            (None, 61, 61, 128)       73856     \n",
      "_________________________________________________________________\n",
      "max_pooling2d_2 (MaxPooling2 (None, 30, 30, 128)       0         \n",
      "_________________________________________________________________\n",
      "flatten_1 (Flatten)          (None, 115200)            0         \n",
      "_________________________________________________________________\n",
      "dense_1 (Dense)              (None, 120)               13824120  \n",
      "_________________________________________________________________\n",
      "dense_2 (Dense)              (None, 84)                10164     \n",
      "_________________________________________________________________\n",
      "dense_3 (Dense)              (None, 5)                 425       \n",
      "=================================================================\n",
      "Total params: 13,910,357\n",
      "Trainable params: 13,910,357\n",
      "Non-trainable params: 0\n",
      "_________________________________________________________________\n"
     ]
    }
   ],
   "source": [
    "model.summary()"
   ]
  },
  {
   "cell_type": "code",
   "execution_count": 7,
   "metadata": {},
   "outputs": [
    {
     "name": "stdout",
     "output_type": "stream",
     "text": [
      "Epoch 1/8\n",
      "56/56 [==============================] - 194s 3s/step - loss: 1.5496 - accuracy: 0.3835 - val_loss: 0.9449 - val_accuracy: 0.6378\n",
      "Epoch 2/8\n",
      "56/56 [==============================] - 172s 3s/step - loss: 0.9290 - accuracy: 0.6264 - val_loss: 0.7438 - val_accuracy: 0.7315\n",
      "Epoch 3/8\n",
      "56/56 [==============================] - 179s 3s/step - loss: 0.6513 - accuracy: 0.7855 - val_loss: 0.4616 - val_accuracy: 0.8289\n",
      "Epoch 4/8\n",
      "56/56 [==============================] - 195s 3s/step - loss: 0.4521 - accuracy: 0.8290 - val_loss: 0.5809 - val_accuracy: 0.8349\n",
      "Epoch 5/8\n",
      "56/56 [==============================] - 189s 3s/step - loss: 0.4105 - accuracy: 0.8349 - val_loss: 0.4437 - val_accuracy: 0.8266\n",
      "Epoch 6/8\n",
      "56/56 [==============================] - 191s 3s/step - loss: 0.3801 - accuracy: 0.8361 - val_loss: 0.3422 - val_accuracy: 0.8409\n",
      "Epoch 7/8\n",
      "56/56 [==============================] - 193s 3s/step - loss: 0.3574 - accuracy: 0.8466 - val_loss: 0.4300 - val_accuracy: 0.8397\n",
      "Epoch 8/8\n",
      "56/56 [==============================] - 193s 3s/step - loss: 0.3555 - accuracy: 0.8493 - val_loss: 0.3296 - val_accuracy: 0.8337\n"
     ]
    }
   ],
   "source": [
    "# batch_size = 32\n",
    "history = model.fit_generator(\n",
    "                                train_generator,\n",
    "                                epochs=8,\n",
    "                                steps_per_epoch=train_generator.samples // train_generator.batch_size, \n",
    "                                validation_data=validation_generator,\n",
    "                                validation_steps=validation_generator.samples // validation_generator.batch_size\n",
    "                                )"
   ]
  },
  {
   "cell_type": "code",
   "execution_count": 8,
   "metadata": {},
   "outputs": [
    {
     "data": {
      "text/plain": [
       "<matplotlib.legend.Legend at 0x1fe0009eac8>"
      ]
     },
     "execution_count": 8,
     "metadata": {},
     "output_type": "execute_result"
    },
    {
     "data": {
      "image/png": "[encoded data removed]",
      "text/plain": [
       "<Figure size 432x288 with 1 Axes>"
      ]
     },
     "metadata": {
      "needs_background": "light"
     },
     "output_type": "display_data"
    }
   ],
   "source": [
    "plt.plot(history.history['accuracy'], 'o-', label='Training acc')\n",
    "plt.plot(history.history['val_accuracy'], 'x-', label='Validation acc')\n",
    "plt.xlabel('iterations')\n",
    "plt.ylabel('Accuracy')\n",
    "plt.legend()"
   ]
  },
  {
   "cell_type": "code",
   "execution_count": 9,
   "metadata": {},
   "outputs": [
    {
     "data": {
      "text/plain": [
       "<matplotlib.legend.Legend at 0x1fe00154e10>"
      ]
     },
     "execution_count": 9,
     "metadata": {},
     "output_type": "execute_result"
    },
    {
     "data": {
      "image/png": "[encoded data removed]",
      "text/plain": [
       "<Figure size 432x288 with 1 Axes>"
      ]
     },
     "metadata": {
      "needs_background": "light"
     },
     "output_type": "display_data"
    }
   ],
   "source": [
    "plt.plot(history.history['loss'], 'o-', label='Training Loss')\n",
    "plt.plot(history.history['val_loss'], 'x-', label='Validation Loss')\n",
    "plt.xlabel('iterations')\n",
    "plt.ylabel('Loss')\n",
    "plt.legend()"
   ]
  },
  {
   "cell_type": "code",
   "execution_count": 11,
   "metadata": {},
   "outputs": [
    {
     "data": {
      "text/plain": [
       "[<keras.layers.convolutional.Conv2D at 0x1fe596c25c0>,\n",
       " <keras.layers.pooling.MaxPooling2D at 0x1fe595fd128>,\n",
       " <keras.layers.convolutional.Conv2D at 0x1fe5c520518>,\n",
       " <keras.layers.pooling.MaxPooling2D at 0x1fe5c520588>,\n",
       " <keras.layers.core.Flatten at 0x1fe5c5b2c18>,\n",
       " <keras.layers.core.Dense at 0x1fe5c5b2da0>,\n",
       " <keras.layers.core.Dense at 0x1fe5c5b28d0>,\n",
       " <keras.layers.core.Dense at 0x1fe5c6d6b00>]"
      ]
     },
     "execution_count": 11,
     "metadata": {},
     "output_type": "execute_result"
    }
   ],
   "source": [
    "model.layers"
   ]
  },
  {
   "cell_type": "code",
   "execution_count": 13,
   "metadata": {},
   "outputs": [],
   "source": [
    "from keras.models import load_model\n",
    "\n",
    "modelFile = 'eye_color.h5'\n",
    "\n",
    "model.save(modelFile)"
   ]
  },
  {
   "cell_type": "code",
   "execution_count": 14,
   "metadata": {},
   "outputs": [],
   "source": [
    "# extracting new test dataset\n",
    "df2 = pd.read_csv('D:/ELEC0134 Applied Machine Learning Systems/assignment/dataset_AMLS_20-21_test/cartoon_set_test/labels.csv', sep = '\\t')\n",
    "df2 = df2.drop(columns = [df2.columns[0]]).drop(columns = [df2.columns[2]])\n",
    "df2['eye_color'] = df2['eye_color'].apply(str)\n",
    "img2 = ('D:/ELEC0134 Applied Machine Learning Systems/assignment/dataset_AMLS_20-21_test/cartoon_set_test/img')"
   ]
  },
  {
   "cell_type": "code",
   "execution_count": 20,
   "metadata": {},
   "outputs": [
    {
     "name": "stdout",
     "output_type": "stream",
     "text": [
      "Found 2500 validated image filenames belonging to 5 classes.\n"
     ]
    }
   ],
   "source": [
    "saved_model = load_model(modelFile)\n",
    "test_generator = data_generator.flow_from_dataframe(\n",
    "        dataframe = df2, directory = img2,\n",
    "        x_col = \"file_name\", y_col = \"eye_color\",\n",
    "        batch_size=1,\n",
    "        class_mode='categorical', target_size=(128, 128),\n",
    "        shuffle=False)\n",
    "test_steps = test_generator.samples"
   ]
  },
  {
   "cell_type": "code",
   "execution_count": 17,
   "metadata": {},
   "outputs": [
    {
     "name": "stdout",
     "output_type": "stream",
     "text": [
      "56/56 [==============================] - 53s 938ms/step\n",
      "Train loss: 0.4046100974082947\n",
      "Train Accuracy: 0.8472377061843872\n"
     ]
    }
   ],
   "source": [
    "# printing training loss and accuracy\n",
    "tr_sc = saved_model.evaluate_generator(train_generator, steps = validation_generator.samples // 32, verbose=1)\n",
    "\n",
    "print('Train loss: '+ str(tr_sc[0]))\n",
    "print('Train Accuracy: '+ str(tr_sc[1]))"
   ]
  },
  {
   "cell_type": "code",
   "execution_count": 18,
   "metadata": {},
   "outputs": [
    {
     "name": "stdout",
     "output_type": "stream",
     "text": [
      "56/56 [==============================] - 56s 1s/step\n",
      "Validation loss: 0.32617437839508057\n",
      "Validation Accuracy: 0.8332843780517578\n"
     ]
    }
   ],
   "source": [
    "# printing validation loss and accuracy\n",
    "val_sc = saved_model.evaluate_generator(validation_generator, steps = validation_generator.samples // 32, verbose=1)\n",
    "\n",
    "print('Validation loss: '+ str(val_sc[0]))\n",
    "print('Validation Accuracy: '+ str(val_sc[1]))"
   ]
  },
  {
   "cell_type": "code",
   "execution_count": 21,
   "metadata": {},
   "outputs": [
    {
     "name": "stdout",
     "output_type": "stream",
     "text": [
      "2500/2500 [==============================] - 36s 14ms/step\n"
     ]
    }
   ],
   "source": [
    "test_generator.reset()\n",
    "pred=saved_model.predict_generator(test_generator, verbose=1, steps=test_steps)\n",
    "# determine the maximum activation value for each sample\n",
    "predicted_class_indices=np.argmax(pred,axis=1)\n",
    "# label each predicted value to correct gender\n",
    "labels = (test_generator.class_indices)\n",
    "labels = dict((v,k) for k,v in labels.items())\n",
    "predictions = [labels[k] for k in predicted_class_indices]"
   ]
  },
  {
   "cell_type": "code",
   "execution_count": 22,
   "metadata": {},
   "outputs": [
    {
     "name": "stdout",
     "output_type": "stream",
     "text": [
      "[[448   7  26  11  14]\n",
      " [ 53 384  27  11   8]\n",
      " [ 61   9 431  16   8]\n",
      " [ 61  11  22 410  10]\n",
      " [ 50   5  26   3 388]]\n",
      "\n",
      "Confusion Matrix\n"
     ]
    },
    {
     "data": {
      "image/png": "[encoded data removed]",
      "text/plain": [
       "<Figure size 288x288 with 2 Axes>"
      ]
     },
     "metadata": {
      "needs_background": "light"
     },
     "output_type": "display_data"
    },
    {
     "name": "stdout",
     "output_type": "stream",
     "text": [
      "[[0.1792 0.0028 0.0104 0.0044 0.0056]\n",
      " [0.0212 0.1536 0.0108 0.0044 0.0032]\n",
      " [0.0244 0.0036 0.1724 0.0064 0.0032]\n",
      " [0.0244 0.0044 0.0088 0.164  0.004 ]\n",
      " [0.02   0.002  0.0104 0.0012 0.1552]]\n",
      "\n",
      "Confusion Matrix (normalised)\n"
     ]
    },
    {
     "data": {
      "image/png": "[encoded data removed]",
      "text/plain": [
       "<Figure size 288x288 with 2 Axes>"
      ]
     },
     "metadata": {
      "needs_background": "light"
     },
     "output_type": "display_data"
    },
    {
     "name": "stdout",
     "output_type": "stream",
     "text": [
      "Classification report\n",
      "\n",
      "              precision    recall  f1-score   support\n",
      "\n",
      "           0       0.67      0.89      0.76       506\n",
      "           1       0.92      0.80      0.85       483\n",
      "           2       0.81      0.82      0.82       525\n",
      "           3       0.91      0.80      0.85       514\n",
      "           4       0.91      0.82      0.86       472\n",
      "\n",
      "    accuracy                           0.82      2500\n",
      "   macro avg       0.84      0.82      0.83      2500\n",
      "weighted avg       0.84      0.82      0.83      2500\n",
      "\n",
      "Accuracy: 0.8244\n"
     ]
    }
   ],
   "source": [
    "import sklearn.metrics as metrics\n",
    "# displaying confusion matrix\n",
    "cm = confusion_matrix(test_generator.classes, predicted_class_indices)\n",
    "cmap = plt.get_cmap('Pastel1')\n",
    "print(cm)\n",
    "plt.matshow(cm)\n",
    "plt.imshow(cm, cmap=cmap)\n",
    "plt.colorbar()\n",
    "plt.ylabel('True label')\n",
    "plt.xlabel('Predicted label')\n",
    "print('\\nConfusion Matrix')\n",
    "plt.show()\n",
    "\n",
    "\n",
    "cm2 = confusion_matrix(test_generator.classes, predicted_class_indices, normalize='all')\n",
    "\n",
    "print(cm2)\n",
    "plt.matshow(cm2)\n",
    "plt.imshow(cm2, cmap=cmap)\n",
    "plt.colorbar()\n",
    "plt.ylabel('True label')\n",
    "plt.xlabel('Predicted label')\n",
    "print('\\nConfusion Matrix (normalised)')\n",
    "plt.show()\n",
    "\n",
    "print('Classification report\\n')\n",
    "print(classification_report(test_generator.classes, predicted_class_indices))\n",
    "print('Accuracy:', accuracy_score(test_generator.classes, predicted_class_indices))"
   ]
  }
 ],
 "metadata": {
  "kernelspec": {
   "display_name": "Python 3",
   "language": "python",
   "name": "python3"
  },
  "language_info": {
   "codemirror_mode": {
    "name": "ipython",
    "version": 3
   },
   "file_extension": ".py",
   "mimetype": "text/x-python",
   "name": "python",
   "nbconvert_exporter": "python",
   "pygments_lexer": "ipython3",
   "version": "3.6.12"
  }
 },
 "nbformat": 4,
 "nbformat_minor": 4
}
