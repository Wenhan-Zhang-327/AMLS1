{
 "cells": [
  {
   "cell_type": "code",
   "execution_count": 15,
   "metadata": {},
   "outputs": [
    {
     "name": "stdout",
     "output_type": "stream",
     "text": [
      "0.jpg\n",
      "1\n"
     ]
    }
   ],
   "source": [
    "import os as os\n",
    "import pandas as pd\n",
    "data_frame = pd.read_csv('D:/ELEC0134 Applied Machine Learning Systems/assignment/dataset_AMLS_20-21/celeba/labels.csv', delim_whitespace=True)\n",
    "img_name = data_frame.img_name.values\n",
    "smiling = data_frame.smiling.values\n",
    "print(img_name[0])\n",
    "print(smiling[0])"
   ]
  },
  {
   "cell_type": "code",
   "execution_count": 20,
   "metadata": {},
   "outputs": [],
   "source": [
    "\n",
    "import csv\n",
    "csvFile=open(\"D:/ELEC0134 Applied Machine Learning Systems/assignment/dataset_AMLS_20-21/celeba/test.csv\",'w',newline='')\n",
    "try:\n",
    "    writer=csv.writer(csvFile)\n",
    "    writer.writerow([\"img_name\",\"smiling\"])\n",
    "    for i in range(5000):\n",
    "        writer.writerow([img_name[i],smiling[i]])\n",
    "finally:\n",
    "    csvFile.close()\n",
    "    \n",
    "\n",
    "\n"
   ]
  },
  {
   "cell_type": "code",
   "execution_count": 25,
   "metadata": {},
   "outputs": [],
   "source": [
    "import pandas as pd\n",
    "import  os\n",
    " \n",
    "##########需要转换的csv文件###########\n",
    "path_dir = 'D:/ELEC0134 Applied Machine Learning Systems/assignment/dataset_AMLS_20-21/celeba/'\n",
    "csvPath = path_dir + 'test.csv'\n",
    "if not os.path.exists(csvPath):\n",
    "    print('Not that files:%s'%csvPath)\n",
    "    \n",
    "#pandas.read_csv() 报错 OSError: Initializing from file failed，\n",
    "#一种是函数参数为路径而非文件名称，另一种是函数参数带有中文。\n",
    "#\n",
    "##########转换成txt文件###########\n",
    "txtPath = path_dir+'test.txt'\n",
    "data = pd.read_csv(csvPath, encoding='utf-8')\n",
    " \n",
    "with open(txtPath,'a+', encoding='utf-8') as f:\n",
    "    for line in data.values:\n",
    "        #f.write((str(line[0])+'\\t'+str(line[1])+'\\n'))\n",
    "        f.write((str(line[1])+'\\n'))"
   ]
  }
 ],
 "metadata": {
  "kernelspec": {
   "display_name": "Python 3",
   "language": "python",
   "name": "python3"
  },
  "language_info": {
   "codemirror_mode": {
    "name": "ipython",
    "version": 3
   },
   "file_extension": ".py",
   "mimetype": "text/x-python",
   "name": "python",
   "nbconvert_exporter": "python",
   "pygments_lexer": "ipython3",
   "version": "3.6.12"
  }
 },
 "nbformat": 4,
 "nbformat_minor": 4
}
